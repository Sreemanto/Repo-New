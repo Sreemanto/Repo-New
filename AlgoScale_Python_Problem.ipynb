{
 "cells": [
  {
   "cell_type": "code",
   "execution_count": 65,
   "metadata": {},
   "outputs": [],
   "source": [
    "import pandas as pd"
   ]
  },
  {
   "cell_type": "code",
   "execution_count": 66,
   "metadata": {},
   "outputs": [],
   "source": [
    "names = [\"ABC\",\"DEF\",\"GHI\",\"ABC\",\"PQR\"]\n",
    "sentence = [\"How is everyone doing\",\"I'm doing awesome \",\"Doing great\",\"not doing bad at all\",\"how is the weather there\"]\n",
    "\n",
    "df = pd.DataFrame({\"names\":names,\n",
    "             \"sentence\":sentence})"
   ]
  },
  {
   "cell_type": "code",
   "execution_count": 67,
   "metadata": {},
   "outputs": [],
   "source": [
    "def unique_words(name):\n",
    "    \n",
    "    #subsetting the data for one individual\n",
    "    ind_df = df[df[\"names\"]==name]\n",
    "    \n",
    "    # for collecting words\n",
    "    individual_word_list = []\n",
    "    \n",
    "    #empty df to be used later\n",
    "    ind_df_with_words = pd.DataFrame() \n",
    "    \n",
    "    for i in ind_df.sentence.values:\n",
    "        wordlist = i.split(\" \")\n",
    "        \n",
    "    #for word in wordlist:\n",
    "        individual_word_list.extend(wordlist)\n",
    "\n",
    "    #creating a dataframe\n",
    "    ind_df_with_words[\"Words\"] = individual_word_list\n",
    "    ind_df_with_words[\"Name\"] = name\n",
    "\n",
    "    \n",
    "    #collecting the most frequent word\n",
    "    most_frequent_word = ind_df_with_words[\"Words\"].value_counts().index[0]\n",
    "    #collecting the coutn of most frequent word\n",
    "    count_most_frequent_word = ind_df_with_words[\"Words\"].value_counts().values[0]\n",
    "    #collecting total no of unique words\n",
    "    unique_words_ = ind_df_with_words[\"Words\"].nunique()\n",
    "    #print(ind_df_with_words[\"Words\"].nunique())\n",
    "    \n",
    "    return most_frequent_word,count_most_frequent_word,unique_words_"
   ]
  },
  {
   "cell_type": "code",
   "execution_count": 68,
   "metadata": {},
   "outputs": [],
   "source": [
    "name_list = df[\"names\"].unique()\n",
    "\n",
    "summary = {}\n",
    "\n",
    "for name in name_list:\n",
    "    \n",
    "    most_frequent_word,count_most_frequent_word,unique_words_ = unique_words(name)\n",
    "    \n",
    "    #storing the details in dict\n",
    "    summary[name] = [most_frequent_word,count_most_frequent_word,unique_words_]"
   ]
  },
  {
   "cell_type": "code",
   "execution_count": 69,
   "metadata": {
    "scrolled": true
   },
   "outputs": [
    {
     "data": {
      "text/html": [
       "<div>\n",
       "<style scoped>\n",
       "    .dataframe tbody tr th:only-of-type {\n",
       "        vertical-align: middle;\n",
       "    }\n",
       "\n",
       "    .dataframe tbody tr th {\n",
       "        vertical-align: top;\n",
       "    }\n",
       "\n",
       "    .dataframe thead th {\n",
       "        text-align: right;\n",
       "    }\n",
       "</style>\n",
       "<table border=\"1\" class=\"dataframe\">\n",
       "  <thead>\n",
       "    <tr style=\"text-align: right;\">\n",
       "      <th></th>\n",
       "      <th>Name</th>\n",
       "      <th>most_frequent_word</th>\n",
       "      <th>count_most_frequent_word</th>\n",
       "      <th>Total Unique words</th>\n",
       "    </tr>\n",
       "  </thead>\n",
       "  <tbody>\n",
       "    <tr>\n",
       "      <th>0</th>\n",
       "      <td>ABC</td>\n",
       "      <td>doing</td>\n",
       "      <td>2</td>\n",
       "      <td>8</td>\n",
       "    </tr>\n",
       "    <tr>\n",
       "      <th>1</th>\n",
       "      <td>DEF</td>\n",
       "      <td>awesome</td>\n",
       "      <td>1</td>\n",
       "      <td>4</td>\n",
       "    </tr>\n",
       "    <tr>\n",
       "      <th>2</th>\n",
       "      <td>GHI</td>\n",
       "      <td>great</td>\n",
       "      <td>1</td>\n",
       "      <td>2</td>\n",
       "    </tr>\n",
       "    <tr>\n",
       "      <th>3</th>\n",
       "      <td>PQR</td>\n",
       "      <td>weather</td>\n",
       "      <td>1</td>\n",
       "      <td>5</td>\n",
       "    </tr>\n",
       "  </tbody>\n",
       "</table>\n",
       "</div>"
      ],
      "text/plain": [
       "  Name most_frequent_word count_most_frequent_word Total Unique words\n",
       "0  ABC              doing                        2                  8\n",
       "1  DEF            awesome                        1                  4\n",
       "2  GHI              great                        1                  2\n",
       "3  PQR            weather                        1                  5"
      ]
     },
     "execution_count": 69,
     "metadata": {},
     "output_type": "execute_result"
    }
   ],
   "source": [
    "#Summarizing the results in a data frame\n",
    "summary_df = pd.DataFrame(summary).T.reset_index()\n",
    "summary_df.columns = [\"Name\",\"most_frequent_word\",\"count_most_frequent_word\",\"Total Unique words\"]\n",
    "summary_df"
   ]
  },
  {
   "cell_type": "code",
   "execution_count": null,
   "metadata": {},
   "outputs": [],
   "source": []
  },
  {
   "cell_type": "code",
   "execution_count": null,
   "metadata": {},
   "outputs": [],
   "source": []
  }
 ],
 "metadata": {
  "kernelspec": {
   "display_name": "Python 3",
   "language": "python",
   "name": "python3"
  },
  "language_info": {
   "codemirror_mode": {
    "name": "ipython",
    "version": 3
   },
   "file_extension": ".py",
   "mimetype": "text/x-python",
   "name": "python",
   "nbconvert_exporter": "python",
   "pygments_lexer": "ipython3",
   "version": "3.7.7"
  }
 },
 "nbformat": 4,
 "nbformat_minor": 4
}
